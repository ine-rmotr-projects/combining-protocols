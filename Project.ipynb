{
 "cells": [
  {
   "cell_type": "markdown",
   "metadata": {},
   "source": [
    "![ine-divider](https://user-images.githubusercontent.com/7065401/92672068-398e8080-f2ee-11ea-82d6-ad53f7feb5c0.png)\n",
    "<hr>\n",
    "\n",
    "### Advanced Python: Iterators, Generators, Context Managers & Decorators\n",
    "\n",
    "# Final project: Combining protocols\n",
    "\n",
    "In this final project, we will specify two tasks that will utilize two or more of the overall techniques of protocols discussed in this course.\n",
    "\n",
    "For these task, we use some data inside an SQLite database that has been used in some other INE courses as well.  The requirement is, of necessity, slightly forced, since a better solution than you will provide is simply \"use the excellent DB-API and `sqlite3` driver.\"  However, in order to simulate the need from more from-scratch construction, suppose that you can **only** access the data via the following class."
   ]
  },
  {
   "cell_type": "code",
   "execution_count": 15,
   "metadata": {},
   "outputs": [],
   "source": [
    "import sqlite3\n",
    "from collections import namedtuple\n",
    "\n",
    "class RawTweets:\n",
    "    \"Limited interface for access to tweet database\"\n",
    "    known_names = {\n",
    "        'airline', 'airline_sentiment', 'airline_sentiment_confidence',\n",
    "        'airline_sentiment_gold', 'name', 'negativereason', \n",
    "        'negativereason_confidence', 'negativereason_gold', \n",
    "        'retweet_count', 'text', 'tweet_coord', 'tweet_created', \n",
    "        'tweet_id', 'tweet_location', 'user_timezone'}\n",
    "    \n",
    "    def __init__(self, *colnames):\n",
    "        self.__db = sqlite3.connect('Airline-Tweets.sqlite')\n",
    "        self.__cur = self.__db.cursor()\n",
    "        if not set(colnames) <= self.known_names:\n",
    "            raise ValueError(f\"Must specify columns from {self.known_names}\")\n",
    "        self.__row = namedtuple('Row', colnames)\n",
    "        self.__cur.execute(f\"SELECT {','.join(colnames)} FROM Tweets;\")\n",
    "    \n",
    "    @property\n",
    "    def next_row(self):\n",
    "        try:\n",
    "            return self.__row(*self.__cur.fetchone())\n",
    "        except:\n",
    "            return None\n",
    "    \n",
    "    def close(self):\n",
    "        self.__db.close()"
   ]
  },
  {
   "cell_type": "markdown",
   "metadata": {},
   "source": [
    "In other words, the only API you are provided with is creating an instance of `RawTweets` initialized with column names.  The only public attributes are the property `.next_row` and the method `.close()`."
   ]
  },
  {
   "cell_type": "code",
   "execution_count": 17,
   "metadata": {},
   "outputs": [
    {
     "data": {
      "text/plain": [
       "Row(tweet_id=567588278875213824, tweet_created='2015-02-16 23:36:05 -0800')"
      ]
     },
     "execution_count": 17,
     "metadata": {},
     "output_type": "execute_result"
    }
   ],
   "source": [
    "id_date = RawTweets('tweet_id', 'tweet_created')\n",
    "id_date.next_row"
   ]
  },
  {
   "cell_type": "code",
   "execution_count": 18,
   "metadata": {},
   "outputs": [
    {
     "name": "stdout",
     "output_type": "stream",
     "text": [
      "Row(tweet_id=567590027375702016, tweet_created='2015-02-16 23:43:02 -0800')\n"
     ]
    }
   ],
   "source": [
    "print(id_date.next_row)\n",
    "id_date.close()"
   ]
  },
  {
   "cell_type": "code",
   "execution_count": 19,
   "metadata": {},
   "outputs": [
    {
     "name": "stdout",
     "output_type": "stream",
     "text": [
      "Must specify columns from {'user_timezone', 'negativereason_gold', 'tweet_coord', 'retweet_count', 'name', 'airline_sentiment_gold', 'tweet_created', 'airline_sentiment', 'airline_sentiment_confidence', 'airline', 'negativereason', 'tweet_location', 'text', 'negativereason_confidence', 'tweet_id'}\n"
     ]
    }
   ],
   "source": [
    "try:\n",
    "    RawTweets('user_name', 'text')\n",
    "except Exception as err:\n",
    "    print(err)"
   ]
  },
  {
   "cell_type": "markdown",
   "metadata": {},
   "source": [
    "![orange-divider](https://user-images.githubusercontent.com/7065401/92672455-187a5f80-f2ef-11ea-890c-40be9474f7b7.png)"
   ]
  },
  {
   "cell_type": "markdown",
   "metadata": {},
   "source": [
    "## Part 1\n",
    "\n",
    "**An iterable row set**\n",
    "\n",
    "Create a constructor for an iterable object that sequentially yields tuples of specified fields of the underlying data.  Suppose that the underlying data is very large, or very slow to derive, and therefore you definitely want a lazy iterator for each element rather than a concrete collection like a list."
   ]
  },
  {
   "cell_type": "markdown",
   "metadata": {},
   "source": [
    "```python\n",
    ">>> from itertools import *\n",
    ">>> for row in islice(tweet_rows('airline', 'airline_sentiment'), 1000, 1010):\n",
    "...    print(row)\n",
    "```\n",
    "```\n",
    "Row(airline='Southwest', airline_sentiment='positive')\n",
    "Row(airline='Virgin America', airline_sentiment='neutral')\n",
    "Row(airline='United', airline_sentiment='positive')\n",
    "Row(airline='Delta', airline_sentiment='negative')\n",
    "Row(airline='Delta', airline_sentiment='negative')\n",
    "Row(airline='Delta', airline_sentiment='positive')\n",
    "Row(airline='US Airways', airline_sentiment='negative')\n",
    "Row(airline='Virgin America', airline_sentiment='positive')\n",
    "Row(airline='US Airways', airline_sentiment='negative')\n",
    "Row(airline='Delta', airline_sentiment='negative')\n",
    "```"
   ]
  },
  {
   "cell_type": "code",
   "execution_count": 1,
   "metadata": {},
   "outputs": [],
   "source": [
    "# your code goes here\n",
    "\n"
   ]
  },
  {
   "cell_type": "markdown",
   "metadata": {},
   "source": [
    "![orange-divider](https://user-images.githubusercontent.com/7065401/92672455-187a5f80-f2ef-11ea-890c-40be9474f7b7.png)\n",
    "\n",
    "## Part 2\n",
    "\n",
    "**A context manager for row connections**\n",
    "\n",
    "Opening an iterator over tuples of columns can be a useful abstraction, but it does not assure that the data stream is closed when you have finished working with it.  To free the resources connected with a stream, we should use a context manager to guard use of a stream.  As a challenge here, we would like the very same object to be usable as *either* a context manager *or* as an iteratable (much as the built-in command `open()` does for lines in a file."
   ]
  },
  {
   "cell_type": "markdown",
   "metadata": {},
   "source": [
    "```python\n",
    ">>> for n, row in zip(range(5), TweetRows('tweet_location')):\n",
    "...     print(n, row)\n",
    "```\n",
    "```\n",
    "0 Row(tweet_location='USA')\n",
    "1 Row(tweet_location='undecided')\n",
    "2 Row(tweet_location='Washington, DC')\n",
    "3 Row(tweet_location='')\n",
    "4 Row(tweet_location='Los Angeles, CA')\n",
    "```"
   ]
  },
  {
   "cell_type": "markdown",
   "metadata": {},
   "source": [
    "```python\n",
    "# This version explicitly closes the stream\n",
    ">>> with TweetRows('tweet_location') as location:\n",
    "...     for n in range(5):\n",
    "...         print(n, next(location))\n",
    "```\n",
    "```\n",
    "0 Row(tweet_location='USA')\n",
    "1 Row(tweet_location='undecided')\n",
    "2 Row(tweet_location='Washington, DC')\n",
    "3 Row(tweet_location='')\n",
    "4 Row(tweet_location='Los Angeles, CA')\n",
    "```"
   ]
  },
  {
   "cell_type": "code",
   "execution_count": 2,
   "metadata": {},
   "outputs": [],
   "source": [
    "# your code goes here\n",
    "\n"
   ]
  },
  {
   "cell_type": "markdown",
   "metadata": {},
   "source": [
    "![orange-divider](https://user-images.githubusercontent.com/7065401/92672455-187a5f80-f2ef-11ea-890c-40be9474f7b7.png)\n",
    "\n",
    "## Part 3\n",
    "\n",
    "**Using TweetRows as a decorator**\n",
    "\n",
    "In a similar fashion to how the lesson injected \"orbits\" into a single function the transforms a complex number, we would like to be able to decorate a fiunction that compares a single row object into a lazy iterable that compares each row of a stream in turn.  For example,"
   ]
  },
  {
   "cell_type": "markdown",
   "metadata": {},
   "source": [
    "```python\n",
    ">>> Row = namedtuple('Row', ['tweet_id', 'airline_sentiment', 'retweet_count'])\n",
    ">>> row = Row(569927288751587328, 'negative', 31)\n",
    ">>> def large_neg_sentiment(row):\n",
    "...     return row.airline_sentiment=='negative' and row.retweet_count > 10\n",
    ">>> large_neg_sentiment(row)\n",
    "True\n",
    "```"
   ]
  },
  {
   "cell_type": "markdown",
   "metadata": {},
   "source": [
    "However, the decorated and vectorized version of function should produce this:\n",
    "\n",
    "```python\n",
    ">>> @TweetRows.deco('tweet_id', 'airline_sentiment', 'retweet_count')\n",
    "... def large_neg_sentiment(row):\n",
    "...     return row.airline_sentiment=='negative' and row.retweet_count > 10\n",
    ">>> for row in large_neg_sentiment:\n",
    "...     print(row)\n",
    "...\n",
    "Row(tweet_id=567897883875217408, airline_sentiment='negative', retweet_count=44)\n",
    "Row(tweet_id=567909106553483264, airline_sentiment='negative', retweet_count=32)\n",
    "Row(tweet_id=569927288751587328, airline_sentiment='negative', retweet_count=31)\n",
    "Row(tweet_id=569932678688055296, airline_sentiment='negative', retweet_count=22)\n",
    "Row(tweet_id=569950913554620416, airline_sentiment='negative', retweet_count=18)\n",
    "```"
   ]
  },
  {
   "cell_type": "markdown",
   "metadata": {},
   "source": [
    "The key thing is that we want to make sure `TweetRows` maintains the iterable and context manager behaviors you have already created.  Acting as a decorator should be an additional feature of the same object.  Notice that the decorated function becomes itself an iterable **not** merely a function that returns an iterable."
   ]
  },
  {
   "cell_type": "code",
   "execution_count": 3,
   "metadata": {},
   "outputs": [],
   "source": [
    "# your code goes here\n",
    "\n"
   ]
  },
  {
   "cell_type": "markdown",
   "metadata": {},
   "source": [
    "![orange-divider](https://user-images.githubusercontent.com/7065401/92672455-187a5f80-f2ef-11ea-890c-40be9474f7b7.png)\n"
   ]
  }
 ],
 "metadata": {
  "kernelspec": {
   "display_name": "Python 3",
   "language": "python",
   "name": "python3"
  },
  "language_info": {
   "codemirror_mode": {
    "name": "ipython",
    "version": 3
   },
   "file_extension": ".py",
   "mimetype": "text/x-python",
   "name": "python",
   "nbconvert_exporter": "python",
   "pygments_lexer": "ipython3",
   "version": "3.8.6"
  }
 },
 "nbformat": 4,
 "nbformat_minor": 4
}
